{
 "cells": [
  {
   "cell_type": "code",
   "execution_count": 1,
   "metadata": {},
   "outputs": [
    {
     "name": "stdout",
     "output_type": "stream",
     "text": [
      "Weak password.\n",
      " A good password must be:\n",
      "Password should be at least 8 characters long.\n",
      "Add at least one uppercase letter.\n",
      "Add at least one lowercase letter.\n",
      "Add at least one special character.\n"
     ]
    }
   ],
   "source": [
    "def check_password(password):\n",
    "    \"\"\"Check password\"\"\"\n",
    "    feedback = []\n",
    "\n",
    "    if len(password) < 8:\n",
    "        feedback.append(\"Password should be at least 8 characters long.\")\n",
    "\n",
    "    has_upper = False\n",
    "    has_lower = False\n",
    "    has_digit = False\n",
    "    has_special = False\n",
    "\n",
    "    special_characters = \"!@#$%^&*()_+{}[]:;,.<>?/\\\\|`~-\"\n",
    "\n",
    "    for char in password:\n",
    "        if char.isupper():\n",
    "            has_upper = True\n",
    "        elif char.islower():\n",
    "            has_lower = True\n",
    "        elif char.isdigit():\n",
    "            has_digit = True\n",
    "        elif char in special_characters:\n",
    "            has_special = True\n",
    "\n",
    "    if not has_upper:\n",
    "        feedback.append(\"Add at least one uppercase letter.\")\n",
    "    if not has_lower:\n",
    "        feedback.append(\"Add at least one lowercase letter.\")\n",
    "    if not has_digit:\n",
    "        feedback.append(\"Add at least one number.\")\n",
    "    if not has_special:\n",
    "        feedback.append(\"Add at least one special character.\")\n",
    "\n",
    "    return feedback\n",
    "\n",
    "\n",
    "password = input(\"Enter a password: \")\n",
    "feedback = check_password(password)\n",
    "\n",
    "if not feedback:\n",
    "    print(\"Strong password!\")\n",
    "else:\n",
    "    print(\"Weak password.\")\n",
    "    print(\"A good password must be:\")\n",
    "    for f in feedback:\n",
    "        print(f)\n"
   ]
  },
  {
   "cell_type": "code",
   "execution_count": null,
   "metadata": {},
   "outputs": [],
   "source": []
  }
 ],
 "metadata": {
  "kernelspec": {
   "display_name": "Python 3",
   "language": "python",
   "name": "python3"
  },
  "language_info": {
   "codemirror_mode": {
    "name": "ipython",
    "version": 3
   },
   "file_extension": ".py",
   "mimetype": "text/x-python",
   "name": "python",
   "nbconvert_exporter": "python",
   "pygments_lexer": "ipython3",
   "version": "3.13.7"
  }
 },
 "nbformat": 4,
 "nbformat_minor": 2
}
